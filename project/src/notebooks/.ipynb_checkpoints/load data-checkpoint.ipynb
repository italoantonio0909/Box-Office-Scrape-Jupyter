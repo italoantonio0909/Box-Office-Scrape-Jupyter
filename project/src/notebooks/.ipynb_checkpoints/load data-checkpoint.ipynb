{
 "cells": [
  {
   "cell_type": "code",
   "execution_count": 10,
   "id": "early-cleaner",
   "metadata": {},
   "outputs": [
    {
     "name": "stdout",
     "output_type": "stream",
     "text": [
      "C:\\Users\\ITALO\\Desktop\\jupyterPython\\project\\src\\notebooks\n"
     ]
    }
   ],
   "source": [
    "import os\n",
    "curDir = os.path.dirname(os.path.abspath(__file__))\n",
    "print(curDir)"
   ]
  },
  {
   "cell_type": "code",
   "execution_count": null,
   "id": "differential-launch",
   "metadata": {},
   "outputs": [],
   "source": []
  }
 ],
 "metadata": {
  "kernelspec": {
   "display_name": "Python 3",
   "language": "python",
   "name": "python3"
  },
  "language_info": {
   "codemirror_mode": {
    "name": "ipython",
    "version": 3
   },
   "file_extension": ".py",
   "mimetype": "text/x-python",
   "name": "python",
   "nbconvert_exporter": "python",
   "pygments_lexer": "ipython3",
   "version": "3.8.1"
  }
 },
 "nbformat": 4,
 "nbformat_minor": 5
}
